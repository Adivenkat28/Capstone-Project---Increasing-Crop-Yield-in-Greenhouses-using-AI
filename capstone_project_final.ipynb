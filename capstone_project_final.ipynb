{
 "cells": [
  {
   "cell_type": "code",
   "execution_count": 5,
   "id": "9e8696a0",
   "metadata": {},
   "outputs": [],
   "source": [
    "# Import necessary libraries\n",
    "import os\n",
    "import cv2\n",
    "import numpy as np\n",
    "from sklearn.model_selection import train_test_split\n",
    "from tensorflow.keras.models import Sequential\n",
    "from tensorflow.keras.layers import Conv2D, MaxPooling2D, Flatten, Dense\n"
   ]
  },
  {
   "cell_type": "code",
   "execution_count": 6,
   "id": "c832d5d5",
   "metadata": {},
   "outputs": [],
   "source": [
    "# Define function for rename and resize the images \n",
    "def load_images(folder_path, label, target_size=(640, 640), output_folder=None):\n",
    "    images = []\n",
    "    labels = []\n",
    "    folder_name = os.path.basename(folder_path)  # Get the name of the current folder\n",
    "    count = 1  # Initialize count for renaming\n",
    "    for filename in os.listdir(folder_path):\n",
    "        img_path = os.path.join(folder_path, filename)\n",
    "        img = cv2.imread(img_path)\n",
    "        #print(f\"Original image size: {img.shape}\")\n",
    "        \n",
    "        # Resize the original image to target_size\n",
    "        img_resized_orig = cv2.resize(img, target_size)\n",
    "        #print(f\"Resized original image size: {img_resized_orig.shape}\")\n",
    "        \n",
    "        # Resize images to the specified size for output_folder\n",
    "        if output_folder:\n",
    "            new_filename = f\"{folder_name}_{count}.jpg\"  # Create new filename\n",
    "            output_path = os.path.join(output_folder, new_filename)\n",
    "            cv2.imwrite(output_path, img_resized_orig)  # Save resized image to output folder\n",
    "            #print(f\"Saved resized image as: {new_filename}\")\n",
    "        \n",
    "        img_resized_output = img_resized_orig / 255.0  # Normalize pixel values\n",
    "        images.append(img_resized_output)\n",
    "        labels.append(label)\n",
    "        count += 1  # Increment count for next image\n",
    "    \n",
    "    # Print the total number of images processed\n",
    "    print(f\"Total {folder_name} images processed: {count - 1}\")\n",
    "    \n",
    "    return images, labels\n"
   ]
  },
  {
   "cell_type": "code",
   "execution_count": 7,
   "id": "e25aea1a",
   "metadata": {
    "scrolled": false
   },
   "outputs": [
    {
     "name": "stdout",
     "output_type": "stream",
     "text": [
      "Total healthy images processed: 152\n",
      "Total unhealthy images processed: 57\n"
     ]
    }
   ],
   "source": [
    "# Define folder paths for healthy and unhealthy fruits\n",
    "healthy_folder = \"C:\\\\Users\\\\suman\\\\Downloads\\\\DAB_SEM_4\\\\capstone\\\\april_17\\\\healthy\"\n",
    "unhealthy_folder = \"C:\\\\Users\\\\suman\\\\Downloads\\\\DAB_SEM_4\\\\capstone\\\\april_17\\\\unhealthy\"\n",
    "\n",
    "# Resize and move healthy fruit images to a new folder\n",
    "new_healthy_folder = \"C:\\\\Users\\\\suman\\\\Downloads\\\\DAB_SEM_4\\\\capstone\\\\april_17\\\\new_healthy\"\n",
    "healthy_images, healthy_labels = load_images(healthy_folder, 1, target_size=(100, 100), output_folder=new_healthy_folder)\n",
    "\n",
    "# Resize and move unhealthy fruit images to a new folder\n",
    "new_unhealthy_folder = \"C:\\\\Users\\\\suman\\\\Downloads\\\\DAB_SEM_4\\\\capstone\\\\april_17\\\\new_unhealthy\"\n",
    "unhealthy_images, unhealthy_labels = load_images(unhealthy_folder, 0, target_size=(100, 100), output_folder=new_unhealthy_folder)\n",
    "\n",
    "# Combine all images and labels\n",
    "images = np.array(healthy_images + unhealthy_images)\n",
    "labels = np.array(healthy_labels + unhealthy_labels)\n"
   ]
  },
  {
   "cell_type": "code",
   "execution_count": 8,
   "id": "56677aea",
   "metadata": {},
   "outputs": [
    {
     "name": "stdout",
     "output_type": "stream",
     "text": [
      "Epoch 1/15\n",
      "6/6 [==============================] - 2s 198ms/step - loss: 1.3805 - accuracy: 0.7665 - val_loss: 0.6438 - val_accuracy: 0.5952\n",
      "Epoch 2/15\n",
      "6/6 [==============================] - 1s 137ms/step - loss: 0.5038 - accuracy: 0.7545 - val_loss: 0.5817 - val_accuracy: 0.6429\n",
      "Epoch 3/15\n",
      "6/6 [==============================] - 1s 127ms/step - loss: 0.3595 - accuracy: 0.8024 - val_loss: 0.3848 - val_accuracy: 0.8810\n",
      "Epoch 4/15\n",
      "6/6 [==============================] - 1s 127ms/step - loss: 0.3139 - accuracy: 0.8563 - val_loss: 0.3306 - val_accuracy: 0.8333\n",
      "Epoch 5/15\n",
      "6/6 [==============================] - 1s 130ms/step - loss: 0.2407 - accuracy: 0.9401 - val_loss: 0.2244 - val_accuracy: 0.9286\n",
      "Epoch 6/15\n",
      "6/6 [==============================] - 1s 126ms/step - loss: 0.1777 - accuracy: 0.9521 - val_loss: 0.2172 - val_accuracy: 0.9048\n",
      "Epoch 7/15\n",
      "6/6 [==============================] - 1s 124ms/step - loss: 0.1092 - accuracy: 0.9641 - val_loss: 0.1616 - val_accuracy: 0.9286\n",
      "Epoch 8/15\n",
      "6/6 [==============================] - 1s 136ms/step - loss: 0.0699 - accuracy: 0.9820 - val_loss: 0.0741 - val_accuracy: 0.9762\n",
      "Epoch 9/15\n",
      "6/6 [==============================] - 1s 137ms/step - loss: 0.0634 - accuracy: 0.9701 - val_loss: 0.2147 - val_accuracy: 0.9048\n",
      "Epoch 10/15\n",
      "6/6 [==============================] - 1s 130ms/step - loss: 0.0308 - accuracy: 1.0000 - val_loss: 0.0558 - val_accuracy: 0.9762\n",
      "Epoch 11/15\n",
      "6/6 [==============================] - 1s 131ms/step - loss: 0.0217 - accuracy: 0.9940 - val_loss: 0.1547 - val_accuracy: 0.9286\n",
      "Epoch 12/15\n",
      "6/6 [==============================] - 1s 130ms/step - loss: 0.0114 - accuracy: 1.0000 - val_loss: 0.0678 - val_accuracy: 0.9762\n",
      "Epoch 13/15\n",
      "6/6 [==============================] - 1s 128ms/step - loss: 0.0047 - accuracy: 1.0000 - val_loss: 0.0772 - val_accuracy: 0.9762\n",
      "Epoch 14/15\n",
      "6/6 [==============================] - 1s 130ms/step - loss: 0.0027 - accuracy: 1.0000 - val_loss: 0.1254 - val_accuracy: 0.9762\n",
      "Epoch 15/15\n",
      "6/6 [==============================] - 1s 154ms/step - loss: 0.0021 - accuracy: 1.0000 - val_loss: 0.0665 - val_accuracy: 0.9762\n",
      "2/2 [==============================] - 0s 25ms/step - loss: 0.0665 - accuracy: 0.9762\n",
      "Test Loss: 0.06648416817188263, Test Accuracy: 0.976190447807312\n"
     ]
    }
   ],
   "source": [
    "# Split the dataset into training and testing sets\n",
    "X_train, X_test, y_train, y_test = train_test_split(images, labels, test_size=0.2, random_state=42)\n",
    "\n",
    "# Define the CNN model\n",
    "model = Sequential([\n",
    "    Conv2D(32, (3, 3), activation='relu', input_shape=(100, 100, 3)),\n",
    "    MaxPooling2D((2, 2)),\n",
    "    Conv2D(64, (3, 3), activation='relu'),\n",
    "    MaxPooling2D((2, 2)),\n",
    "    Flatten(),\n",
    "    Dense(128, activation='relu'),\n",
    "    Dense(1, activation='sigmoid')\n",
    "])\n",
    "\n",
    "# Compile the model\n",
    "model.compile(optimizer='adam', loss='binary_crossentropy', metrics=['accuracy'])\n",
    "\n",
    "# Train the model\n",
    "model.fit(X_train, y_train, epochs=15, batch_size=32, validation_data=(X_test, y_test))\n",
    "\n",
    "# Evaluate the model\n",
    "loss, accuracy = model.evaluate(X_test, y_test)\n",
    "print(f'Test Loss: {loss}, Test Accuracy: {accuracy}')\n"
   ]
  }
 ],
 "metadata": {
  "kernelspec": {
   "display_name": "Python 3 (ipykernel)",
   "language": "python",
   "name": "python3"
  },
  "language_info": {
   "codemirror_mode": {
    "name": "ipython",
    "version": 3
   },
   "file_extension": ".py",
   "mimetype": "text/x-python",
   "name": "python",
   "nbconvert_exporter": "python",
   "pygments_lexer": "ipython3",
   "version": "3.9.13"
  }
 },
 "nbformat": 4,
 "nbformat_minor": 5
}
